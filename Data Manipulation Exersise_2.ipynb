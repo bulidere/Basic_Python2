{
 "cells": [
  {
   "cell_type": "code",
   "execution_count": 6,
   "metadata": {},
   "outputs": [
    {
     "name": "stdout",
     "output_type": "stream",
     "text": [
      "Customer ID        0\n",
      "Name               1\n",
      "Account Balance    1\n",
      "Account Type       1\n",
      "dtype: int64\n"
     ]
    }
   ],
   "source": [
    "import pandas as pd\n",
    " # Sample banking data with missing values\n",
    "data = {\n",
    "\"Customer ID\": [101, 102, 103, 104, 105],\n",
    "\"Name\": [\"Alice\", \"Bob\", \"Charlie\", None, \"Eve\"],\n",
    "\"Account Balance\": [3000, None, 4000, 500, 1000],\n",
    "\"Account Type\": [\"Savings\", \"Checking\", None, \"Checking\",\n",
    "\"Savings\"]\n",
    " }\n",
    " # Creating the DataFrame\n",
    "bank_df = pd.DataFrame(data)\n",
    "# Checking for missing values\n",
    "print(bank_df.isnull().sum())"
   ]
  },
  {
   "cell_type": "code",
   "execution_count": 7,
   "metadata": {},
   "outputs": [
    {
     "name": "stdout",
     "output_type": "stream",
     "text": [
      "   Customer ID   Name  Account Balance Account Type\n",
      "0          101  Alice           3000.0      Savings\n",
      "4          105    Eve           1000.0      Savings\n"
     ]
    }
   ],
   "source": [
    "# Dropping rows with any missing values\n",
    "bank_df_dropped = bank_df.dropna()\n",
    "print(bank_df_dropped)"
   ]
  },
  {
   "cell_type": "code",
   "execution_count": 8,
   "metadata": {},
   "outputs": [
    {
     "name": "stdout",
     "output_type": "stream",
     "text": [
      "   Customer ID     Name  Account Balance Account Type\n",
      "0          101    Alice           3000.0      Savings\n",
      "1          102      Bob              0.0     Checking\n",
      "2          103  Charlie           4000.0         None\n",
      "3          104  Unknown            500.0     Checking\n",
      "4          105      Eve           1000.0      Savings\n"
     ]
    },
    {
     "name": "stderr",
     "output_type": "stream",
     "text": [
      "C:\\Users\\Hp\\AppData\\Local\\Temp\\ipykernel_6944\\285595289.py:2: FutureWarning: A value is trying to be set on a copy of a DataFrame or Series through chained assignment using an inplace method.\n",
      "The behavior will change in pandas 3.0. This inplace method will never work because the intermediate object on which we are setting values always behaves as a copy.\n",
      "\n",
      "For example, when doing 'df[col].method(value, inplace=True)', try using 'df.method({col: value}, inplace=True)' or df[col] = df[col].method(value) instead, to perform the operation inplace on the original object.\n",
      "\n",
      "\n",
      "  bank_df[\"Account Balance\"].fillna(0, inplace=True)\n",
      "C:\\Users\\Hp\\AppData\\Local\\Temp\\ipykernel_6944\\285595289.py:4: FutureWarning: A value is trying to be set on a copy of a DataFrame or Series through chained assignment using an inplace method.\n",
      "The behavior will change in pandas 3.0. This inplace method will never work because the intermediate object on which we are setting values always behaves as a copy.\n",
      "\n",
      "For example, when doing 'df[col].method(value, inplace=True)', try using 'df.method({col: value}, inplace=True)' or df[col] = df[col].method(value) instead, to perform the operation inplace on the original object.\n",
      "\n",
      "\n",
      "  bank_df[\"Name\"].fillna(\"Unknown\", inplace=True)\n"
     ]
    }
   ],
   "source": [
    "# Filling missing account balances with 0\n",
    "bank_df[\"Account Balance\"].fillna(0, inplace=True)\n",
    "# Filling missing names with \"Unknown\"\n",
    "bank_df[\"Name\"].fillna(\"Unknown\", inplace=True)\n",
    "print(bank_df)"
   ]
  },
  {
   "cell_type": "code",
   "execution_count": 9,
   "metadata": {},
   "outputs": [
    {
     "name": "stdout",
     "output_type": "stream",
     "text": [
      "   Customer ID     Name  Account Balance Account Type\n",
      "0          101    Alice           3000.0      Savings\n",
      "1          102      Bob              0.0     Checking\n",
      "2          103  Charlie           4000.0     Checking\n",
      "3          104  Unknown            500.0     Checking\n",
      "4          105      Eve           1000.0      Savings\n"
     ]
    },
    {
     "name": "stderr",
     "output_type": "stream",
     "text": [
      "C:\\Users\\Hp\\AppData\\Local\\Temp\\ipykernel_6944\\3840762504.py:2: FutureWarning: A value is trying to be set on a copy of a DataFrame or Series through chained assignment using an inplace method.\n",
      "The behavior will change in pandas 3.0. This inplace method will never work because the intermediate object on which we are setting values always behaves as a copy.\n",
      "\n",
      "For example, when doing 'df[col].method(value, inplace=True)', try using 'df.method({col: value}, inplace=True)' or df[col] = df[col].method(value) instead, to perform the operation inplace on the original object.\n",
      "\n",
      "\n",
      "  bank_df[\"Account Type\"].fillna(method=\"ffill\", inplace=True)\n",
      "C:\\Users\\Hp\\AppData\\Local\\Temp\\ipykernel_6944\\3840762504.py:2: FutureWarning: Series.fillna with 'method' is deprecated and will raise in a future version. Use obj.ffill() or obj.bfill() instead.\n",
      "  bank_df[\"Account Type\"].fillna(method=\"ffill\", inplace=True)\n"
     ]
    }
   ],
   "source": [
    " # Forward fill for Account Type\n",
    "bank_df[\"Account Type\"].fillna(method=\"ffill\", inplace=True)\n",
    "print(bank_df)"
   ]
  },
  {
   "cell_type": "markdown",
   "metadata": {},
   "source": [
    "Data Transformation"
   ]
  },
  {
   "cell_type": "code",
   "execution_count": 10,
   "metadata": {},
   "outputs": [
    {
     "name": "stdout",
     "output_type": "stream",
     "text": [
      "    ID     Name  Account Balance Account Type\n",
      "0  101    Alice           3000.0      Savings\n",
      "1  102      Bob              0.0     Checking\n",
      "2  103  Charlie           4000.0     Checking\n",
      "3  104  Unknown            500.0     Checking\n",
      "4  105      Eve           1000.0      Savings\n"
     ]
    }
   ],
   "source": [
    " # Renaming Customer ID to ID\n",
    "bank_df.rename(columns={\"Customer ID\": \"ID\"}, inplace=True)\n",
    "print(bank_df)"
   ]
  },
  {
   "cell_type": "code",
   "execution_count": 11,
   "metadata": {},
   "outputs": [
    {
     "name": "stdout",
     "output_type": "stream",
     "text": [
      "    ID     Name  Account Balance Account Type\n",
      "0  101    Alice             3000      Savings\n",
      "1  102      Bob                0     Checking\n",
      "2  103  Charlie             4000     Checking\n",
      "3  104  Unknown              500     Checking\n",
      "4  105      Eve             1000      Savings\n"
     ]
    }
   ],
   "source": [
    " # Converting Account Balance to integer\n",
    "bank_df[\"Account Balance\"]= bank_df[\"Account Balance\"].astype(int)\n",
    "print(bank_df)"
   ]
  },
  {
   "cell_type": "code",
   "execution_count": 12,
   "metadata": {},
   "outputs": [
    {
     "name": "stdout",
     "output_type": "stream",
     "text": [
      "    ID     Name  Account Balance Account Type  Interest Earned\n",
      "0  101    Alice             3000      Savings            150.0\n",
      "1  102      Bob                0     Checking              0.0\n",
      "2  103  Charlie             4000     Checking            200.0\n",
      "3  104  Unknown              500     Checking             25.0\n",
      "4  105      Eve             1000      Savings             50.0\n"
     ]
    }
   ],
   "source": [
    " # Adding Interest Earned column assuming a 5% interest rate\n",
    "bank_df[\"Interest Earned\"] = bank_df[\"Account Balance\"] * 0.05\n",
    "print(bank_df)"
   ]
  },
  {
   "cell_type": "code",
   "execution_count": 13,
   "metadata": {},
   "outputs": [
    {
     "name": "stdout",
     "output_type": "stream",
     "text": [
      "    ID     Name  Account Balance Account Type  Interest Earned\n",
      "0  101    Alice             3000      Savings            150.0\n",
      "1  102      Bob                0     Checking              0.0\n",
      "2  103  Charlie             4000     Checking            200.0\n",
      "3  104  Unknown              500     Checking             25.0\n",
      "4  105      Eve             1000      Savings             50.0\n"
     ]
    }
   ],
   "source": [
    "# Adding Interest Earned column assuming a 5% interest rate\n",
    "bank_df[\"Interest Earned\"] = bank_df[\"Account Balance\"] * 0.05\n",
    "print(bank_df)"
   ]
  },
  {
   "cell_type": "code",
   "execution_count": 14,
   "metadata": {},
   "outputs": [
    {
     "name": "stdout",
     "output_type": "stream",
     "text": [
      "    ID     Name  Account Balance Account Type  Interest Earned  \\\n",
      "0  101    Alice             3000      Savings            150.0   \n",
      "1  102      Bob                0     Checking              0.0   \n",
      "2  103  Charlie             4000     Checking            200.0   \n",
      "3  104  Unknown              500     Checking             25.0   \n",
      "4  105      Eve             1000      Savings             50.0   \n",
      "\n",
      "  Balance Category  \n",
      "0           Medium  \n",
      "1              NaN  \n",
      "2             High  \n",
      "3              Low  \n",
      "4              Low  \n"
     ]
    }
   ],
   "source": [
    " # Binning account balances\n",
    "bins = [0, 1000, 3000, 5000]\n",
    "labels = [\"Low\", \"Medium\", \"High\"]\n",
    "bank_df[\"Balance Category\"] = pd.cut(bank_df[\"Account Balance\"],\n",
    "bins=bins, labels=labels)\n",
    "print(bank_df)\n"
   ]
  },
  {
   "cell_type": "code",
   "execution_count": 16,
   "metadata": {},
   "outputs": [
    {
     "name": "stdout",
     "output_type": "stream",
     "text": [
      "    ID     Name  Account Balance Account Type  Interest Earned  \\\n",
      "0  101    Alice             3000      Savings            150.0   \n",
      "1  102      Bob                0     Checking              0.0   \n",
      "2  103  Charlie             4000     Checking            200.0   \n",
      "3  104  Unknown              500     Checking             25.0   \n",
      "4  105      Eve             1000      Savings             50.0   \n",
      "\n",
      "  Balance Category  Normalized Balance  \n",
      "0           Medium               0.750  \n",
      "1              NaN               0.000  \n",
      "2             High               1.000  \n",
      "3              Low               0.125  \n",
      "4              Low               0.250  \n"
     ]
    }
   ],
   "source": [
    " # Normalizing Account Balance (0-1 range)\n",
    "bank_df[\"Normalized Balance\"]= (bank_df[\"Account Balance\"]-bank_df[\"Account Balance\"].min())/(bank_df[\"Account Balance\"].max()- bank_df[\"Account Balance\"].min())\n",
    "print(bank_df)"
   ]
  },
  {
   "cell_type": "markdown",
   "metadata": {},
   "source": [
    "Customer Data Cleaning and Preparation"
   ]
  },
  {
   "cell_type": "code",
   "execution_count": 17,
   "metadata": {},
   "outputs": [
    {
     "name": "stderr",
     "output_type": "stream",
     "text": [
      "C:\\Users\\Hp\\AppData\\Local\\Packages\\PythonSoftwareFoundation.Python.3.12_qbz5n2kfra8p0\\LocalCache\\local-packages\\Python312\\site-packages\\tqdm\\auto.py:21: TqdmWarning: IProgress not found. Please update jupyter and ipywidgets. See https://ipywidgets.readthedocs.io/en/stable/user_install.html\n",
      "  from .autonotebook import tqdm as notebook_tqdm\n"
     ]
    },
    {
     "name": "stdout",
     "output_type": "stream",
     "text": [
      "Downloading from https://www.kaggle.com/api/v1/datasets/download/henriqueyamahata/bank-marketing?dataset_version_number=1...\n"
     ]
    },
    {
     "name": "stderr",
     "output_type": "stream",
     "text": [
      "100%|██████████| 393k/393k [00:01<00:00, 290kB/s]"
     ]
    },
    {
     "name": "stdout",
     "output_type": "stream",
     "text": [
      "Extracting files...\n",
      "Path to dataset files: C:\\Users\\Hp\\.cache\\kagglehub\\datasets\\henriqueyamahata\\bank-marketing\\versions\\1\n"
     ]
    },
    {
     "name": "stderr",
     "output_type": "stream",
     "text": [
      "\n"
     ]
    }
   ],
   "source": [
    "import kagglehub\n",
    "path=kagglehub.dataset_download(\"henriqueyamahata/bank-marketing\"\n",
    " )\n",
    "print(\"Path to dataset files:\", path)"
   ]
  },
  {
   "cell_type": "code",
   "execution_count": 22,
   "metadata": {},
   "outputs": [
    {
     "name": "stdout",
     "output_type": "stream",
     "text": [
      "<bound method NDFrame.head of        age          job  marital            education  default housing loan  \\\n",
      "0       56    housemaid  married             basic.4y       no      no   no   \n",
      "1       57     services  married          high.school  unknown      no   no   \n",
      "2       37     services  married          high.school       no     yes   no   \n",
      "3       40       admin.  married             basic.6y       no      no   no   \n",
      "4       56     services  married          high.school       no      no  yes   \n",
      "...    ...          ...      ...                  ...      ...     ...  ...   \n",
      "41183   73      retired  married  professional.course       no     yes   no   \n",
      "41184   46  blue-collar  married  professional.course       no      no   no   \n",
      "41185   56      retired  married    university.degree       no     yes   no   \n",
      "41186   44   technician  married  professional.course       no      no   no   \n",
      "41187   74      retired  married  professional.course       no     yes   no   \n",
      "\n",
      "         contact month day_of_week  ...  campaign  pdays  previous  \\\n",
      "0      telephone   may         mon  ...         1    999         0   \n",
      "1      telephone   may         mon  ...         1    999         0   \n",
      "2      telephone   may         mon  ...         1    999         0   \n",
      "3      telephone   may         mon  ...         1    999         0   \n",
      "4      telephone   may         mon  ...         1    999         0   \n",
      "...          ...   ...         ...  ...       ...    ...       ...   \n",
      "41183   cellular   nov         fri  ...         1    999         0   \n",
      "41184   cellular   nov         fri  ...         1    999         0   \n",
      "41185   cellular   nov         fri  ...         2    999         0   \n",
      "41186   cellular   nov         fri  ...         1    999         0   \n",
      "41187   cellular   nov         fri  ...         3    999         1   \n",
      "\n",
      "          poutcome emp.var.rate  cons.price.idx  cons.conf.idx  euribor3m  \\\n",
      "0      nonexistent          1.1          93.994          -36.4      4.857   \n",
      "1      nonexistent          1.1          93.994          -36.4      4.857   \n",
      "2      nonexistent          1.1          93.994          -36.4      4.857   \n",
      "3      nonexistent          1.1          93.994          -36.4      4.857   \n",
      "4      nonexistent          1.1          93.994          -36.4      4.857   \n",
      "...            ...          ...             ...            ...        ...   \n",
      "41183  nonexistent         -1.1          94.767          -50.8      1.028   \n",
      "41184  nonexistent         -1.1          94.767          -50.8      1.028   \n",
      "41185  nonexistent         -1.1          94.767          -50.8      1.028   \n",
      "41186  nonexistent         -1.1          94.767          -50.8      1.028   \n",
      "41187      failure         -1.1          94.767          -50.8      1.028   \n",
      "\n",
      "       nr.employed    y  \n",
      "0           5191.0   no  \n",
      "1           5191.0   no  \n",
      "2           5191.0   no  \n",
      "3           5191.0   no  \n",
      "4           5191.0   no  \n",
      "...            ...  ...  \n",
      "41183       4963.6  yes  \n",
      "41184       4963.6   no  \n",
      "41185       4963.6   no  \n",
      "41186       4963.6  yes  \n",
      "41187       4963.6   no  \n",
      "\n",
      "[41188 rows x 21 columns]>\n",
      "age               0\n",
      "job               0\n",
      "marital           0\n",
      "education         0\n",
      "default           0\n",
      "housing           0\n",
      "loan              0\n",
      "contact           0\n",
      "month             0\n",
      "day_of_week       0\n",
      "duration          0\n",
      "campaign          0\n",
      "pdays             0\n",
      "previous          0\n",
      "poutcome          0\n",
      "emp.var.rate      0\n",
      "cons.price.idx    0\n",
      "cons.conf.idx     0\n",
      "euribor3m         0\n",
      "nr.employed       0\n",
      "y                 0\n",
      "dtype: int64\n"
     ]
    }
   ],
   "source": [
    "import pandas as pd\n",
    "\n",
    "data=pd.read_csv(path+\"/bank-additional-full.csv\",sep=\";\")\n",
    "df=pd.DataFrame(data)\n",
    "print(df.head)\n",
    "print(df.isnull().sum())"
   ]
  },
  {
   "cell_type": "code",
   "execution_count": 25,
   "metadata": {},
   "outputs": [
    {
     "name": "stdout",
     "output_type": "stream",
     "text": [
      "   age        job  marital    education  default housing loan    contact  \\\n",
      "0   56  housemaid  married     basic.4y       no      no   no  telephone   \n",
      "1   57   services  married  high.school  unknown      no   no  telephone   \n",
      "2   37   services  married  high.school       no     yes   no  telephone   \n",
      "3   40     admin.  married     basic.6y       no      no   no  telephone   \n",
      "4   56   services  married  high.school       no      no  yes  telephone   \n",
      "\n",
      "  month day_of_week  ...  campaign  pdays  previous     poutcome emp.var.rate  \\\n",
      "0   may         mon  ...         1    999         0  nonexistent          1.1   \n",
      "1   may         mon  ...         1    999         0  nonexistent          1.1   \n",
      "2   may         mon  ...         1    999         0  nonexistent          1.1   \n",
      "3   may         mon  ...         1    999         0  nonexistent          1.1   \n",
      "4   may         mon  ...         1    999         0  nonexistent          1.1   \n",
      "\n",
      "   cons.price.idx  cons.conf.idx  euribor3m  nr.employed   y  \n",
      "0          93.994          -36.4      4.857       5191.0  no  \n",
      "1          93.994          -36.4      4.857       5191.0  no  \n",
      "2          93.994          -36.4      4.857       5191.0  no  \n",
      "3          93.994          -36.4      4.857       5191.0  no  \n",
      "4          93.994          -36.4      4.857       5191.0  no  \n",
      "\n",
      "[5 rows x 21 columns]\n"
     ]
    }
   ],
   "source": [
    "print(data.head())"
   ]
  }
 ],
 "metadata": {
  "kernelspec": {
   "display_name": "Python 3",
   "language": "python",
   "name": "python3"
  },
  "language_info": {
   "codemirror_mode": {
    "name": "ipython",
    "version": 3
   },
   "file_extension": ".py",
   "mimetype": "text/x-python",
   "name": "python",
   "nbconvert_exporter": "python",
   "pygments_lexer": "ipython3",
   "version": "3.12.7"
  }
 },
 "nbformat": 4,
 "nbformat_minor": 2
}
