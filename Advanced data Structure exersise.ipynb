{
 "cells": [
  {
   "cell_type": "code",
   "execution_count": null,
   "metadata": {},
   "outputs": [
    {
     "name": "stdout",
     "output_type": "stream",
     "text": [
      "['HELLO', 'WORLD']\n"
     ]
    }
   ],
   "source": [
    "words=[\"hello\",\"world\"]\n",
    "uppercased=[word.upper() for word in words]\n",
    "print(uppercased)\n"
   ]
  },
  {
   "cell_type": "code",
   "execution_count": 6,
   "metadata": {},
   "outputs": [
    {
     "name": "stdout",
     "output_type": "stream",
     "text": [
      "High transaction: [700, 500, 900]\n"
     ]
    }
   ],
   "source": [
    "transaction=[300,700,250,500,900]\n",
    "High_transactions=[h for h in transaction if h > 300]\n",
    "print(\"High transaction:\",High_transactions)"
   ]
  },
  {
   "cell_type": "code",
   "execution_count": 2,
   "metadata": {},
   "outputs": [
    {
     "name": "stdout",
     "output_type": "stream",
     "text": [
      "[200, 300, 150]\n"
     ]
    }
   ],
   "source": [
    "customer_transactions = {\n",
    " \"Alice\": [200, 300, 150],\n",
    " \"Bob\": [400, 500, 100]\n",
    " }\n",
    " # Accessing Alice's transactions\n",
    "alice_transactions = customer_transactions[\"Alice\"]\n",
    " # Output: [200, 300, 150]\n",
    "print(alice_transactions)"
   ]
  },
  {
   "cell_type": "code",
   "execution_count": null,
   "metadata": {},
   "outputs": [
    {
     "name": "stdout",
     "output_type": "stream",
     "text": [
      "Alice\n"
     ]
    }
   ],
   "source": [
    "customers = [\n",
    " {\"name\": \"Alice\", \n",
    "  \"balance\": 500},\n",
    " {\"name\": \"Bob\", \n",
    "  \"balance\": 1000}\n",
    " ]\n",
    " # Accessing the balance of the first customer\n",
    "alice_balance = customers[0][\"name\"]\n",
    "print(alice_balance)\n",
    "# Output: 500"
   ]
  }
 ],
 "metadata": {
  "kernelspec": {
   "display_name": "Python 3",
   "language": "python",
   "name": "python3"
  },
  "language_info": {
   "codemirror_mode": {
    "name": "ipython",
    "version": 3
   },
   "file_extension": ".py",
   "mimetype": "text/x-python",
   "name": "python",
   "nbconvert_exporter": "python",
   "pygments_lexer": "ipython3",
   "version": "3.12.7"
  }
 },
 "nbformat": 4,
 "nbformat_minor": 2
}
