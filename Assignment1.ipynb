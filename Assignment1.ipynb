{
 "cells": [
  {
   "cell_type": "code",
   "execution_count": null,
   "metadata": {},
   "outputs": [],
   "source": [
    "customers_Info = {\n",
    " 1001: (\"Abebe Beyene\", \"Savings\"),\n",
    " 1002: (\"Temesge Banti\", \"Checking\"),\n",
    " 1003: (\"Debela Balcha\", \"Savings\"),\n",
    " 1004: (\"Ayele Aweke\", \"Loan\")\n",
    " }\n",
    "#BALANCE\n",
    "balances = {\n",
    " 1001: 1800.0, \n",
    " 1002: 40000.0,\n",
    " 1003: 6000.0, \n",
    " 1004: 10000.0\n",
    " }\n",
    "#TRANSACTION TYPE\n",
    "transaction_types = {\"deposit\", \"withdrawal\"}\n",
    "\n",
    "#TRANSACTION HISTORY\n",
    "transaction_history = {\n",
    " 1001: [{\"type\": \"deposit\", \"amount\": 100, \"date\":\n",
    " \"2024-81-01\"},\n",
    "\n",
    " {\"type\": \"withdrawal\", \"amount\": 50, \"date\":\n",
    " \"2024-01-02\"}],\n",
    "\n",
    " 1002: [{\"type\": \"deposit\", \"amount\": 10, \"date\":\n",
    " \"2024-08-09\"}],\n",
    "\n",
    " 1003: [{\"type\": \"deposit\", \"amount\": 300, \"date\":\n",
    " \"2024-81-01\"}],\n",
    "\n",
    " 1004: [{\"type\": \"withdrawal\", \"amount\": 100, \"date\":\n",
    " \"2024-08-09\"},\n",
    " {\"type\": \"deposit\", \"amount\": 150, \"date\":\n",
    " \"2024-01-02\"}]\n",
    " \n",
    " }"
   ]
  }
 ],
 "metadata": {
  "language_info": {
   "name": "python"
  }
 },
 "nbformat": 4,
 "nbformat_minor": 2
}
