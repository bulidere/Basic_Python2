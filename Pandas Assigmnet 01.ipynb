{
 "cells": [
  {
   "cell_type": "code",
   "execution_count": null,
   "metadata": {},
   "outputs": [
    {
     "name": "stdout",
     "output_type": "stream",
     "text": [
      "   Customer ID Transaction Type  Transaction AMOUNT  Balace\n",
      "1          112               OB                2100   20000\n",
      "3          114               OA                9000   12000\n",
      "   Customer ID Transaction Type  Transaction AMOUNT  Balace  Interst\n",
      "0          111               OB                 100   10000    500.0\n",
      "1          112               OB                2100   20000   1000.0\n",
      "2          113               OA                 400   30000   1500.0\n",
      "3          114               OA                9000   12000    600.0\n",
      "The tootal transaction amount is:  11600\n"
     ]
    }
   ],
   "source": [
    "import pandas as pd\n",
    "banks_data={\n",
    "\"Customer ID\":[111,112,113,114],\n",
    "\"Transaction Type\":[\"OB\",\"OB\",\"OA\",\"OA\"],\n",
    "\"Transaction AMOUNT\":[100,2100,400,9000],\n",
    "\"Balace\":[10000,20000,30000,12000]\n",
    "}\n",
    "\n",
    "banks_dataFrame=pd.DataFrame(banks_data)\n",
    "#print(banks_dataFrame)\n",
    "withdraw_amount=banks_dataFrame[banks_dataFrame[\"Transaction AMOUNT\"]>500]\n",
    "print(withdraw_amount)\n",
    "banks_dataFrame[\"Interst\"]=banks_dataFrame[\"Balace\"]*0.05\n",
    "print(banks_dataFrame)\n",
    "\n",
    "Sum_of_transaction_ammount=banks_dataFrame[\"Transaction AMOUNT\"].sum()\n",
    "print(\"The total transaction amount is: \",Sum_of_transaction_ammount)"
   ]
  }
 ],
 "metadata": {
  "kernelspec": {
   "display_name": "Python 3",
   "language": "python",
   "name": "python3"
  },
  "language_info": {
   "codemirror_mode": {
    "name": "ipython",
    "version": 3
   },
   "file_extension": ".py",
   "mimetype": "text/x-python",
   "name": "python",
   "nbconvert_exporter": "python",
   "pygments_lexer": "ipython3",
   "version": "3.12.7"
  }
 },
 "nbformat": 4,
 "nbformat_minor": 2
}
