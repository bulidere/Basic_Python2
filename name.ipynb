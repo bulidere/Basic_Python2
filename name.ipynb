{
 "cells": [
  {
   "cell_type": "code",
   "execution_count": 2,
   "metadata": {},
   "outputs": [
    {
     "name": "stdout",
     "output_type": "stream",
     "text": [
      "Hello world\n"
     ]
    }
   ],
   "source": [
    "print(\"Hello world\")"
   ]
  },
  {
   "cell_type": "code",
   "execution_count": 10,
   "metadata": {},
   "outputs": [
    {
     "name": "stdout",
     "output_type": "stream",
     "text": [
      "The monthly morgage payment: 105322.41\n"
     ]
    }
   ],
   "source": [
    "def callculate_morgage(principal, rate, term):\n",
    "    monthly_rate=rate/12\n",
    "    months=term*12\n",
    "    monthly_payment=principal*(monthly_rate*(1+monthly_rate)**months)/((1+monthly_rate)**months-1)\n",
    "    return monthly_payment\n",
    "\n",
    "payment=callculate_morgage(10000000,0.12,25)\n",
    "print(\"The monthly morgage payment:\", round(payment,2))\n",
    "payment=callculate_morgage(10000000,0.12,.35)\n",
    "#print(\"The monthly morgage payment:\", round=(payment,2))"
   ]
  },
  {
   "cell_type": "code",
   "execution_count": 20,
   "metadata": {},
   "outputs": [],
   "source": [
    "amount = input(\"Enter your value: \")\n",
    "def is_fraudulent_transaction(amount):\n",
    "    if amount>50000:\n",
    "       return False\n",
    "    else:\n",
    "        return True\n",
    "    print(\"Your transation fraudulent is\",is_fraudulent_transaction)\n",
    "\n",
    "    \n"
   ]
  },
  {
   "cell_type": "code",
   "execution_count": null,
   "metadata": {},
   "outputs": [],
   "source": [
    "transactions = [200,-50, 100,-20, 300]\n",
    " transactions.append(-10)\n",
    " # Removing a transaction (first instance of-50)\n",
    " transactions.remove(-50)\n",
    " # Accessing transactions\n",
    " print(\"First transaction:\", transactions[0]) # 200\n",
    " print(\"Last transaction:\", transactions[-1])"
   ]
  }
 ],
 "metadata": {
  "kernelspec": {
   "display_name": "base",
   "language": "python",
   "name": "python3"
  },
  "language_info": {
   "codemirror_mode": {
    "name": "ipython",
    "version": 3
   },
   "file_extension": ".py",
   "mimetype": "text/x-python",
   "name": "python",
   "nbconvert_exporter": "python",
   "pygments_lexer": "ipython3",
   "version": "3.12.4"
  }
 },
 "nbformat": 4,
 "nbformat_minor": 2
}
